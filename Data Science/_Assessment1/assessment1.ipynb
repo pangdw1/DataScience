{
 "cells": [
  {
   "cell_type": "markdown",
   "metadata": {},
   "source": [
    "<div align=\"right\"><sub>Data Science and Machine Intelligence, Semester 1, 2020</sub>\n",
    "</div>\n",
    "\n",
    "\n",
    "# Assessment 1\n",
    "Due Date: Friday, April 3rd, 5pm.\n",
    "\n",
    "Value: 25% of course mark\n",
    "\n",
    "Every numbered task is worth 1 mark.\n",
    "\n",
    "---\n",
    "\n",
    "\n",
    "##### Learning outcomes\n",
    "- <font size=\"1\">Analyse the principles, advantages, limitations and possible applications of machine learning</font>\n",
    "- <font size=\"1\">Generate solutions to solve machine learning problems and design and implement test procedures in order to evaluate the model.</font>\n",
    "- <font size=\"1\">Adapt mathematical intuition from Linear Algebra, Probability and Statistics to machine intelligence</font>\n",
    "- <font size=\"1\">Apply data mining techniques to fetch, scrub, explore, visualize, model, evaluate, and interpret data</font>"
   ]
  },
  {
   "cell_type": "markdown",
   "metadata": {},
   "source": [
    "### Exercises on Linear Regression   \n",
    "\n",
    "In this exercise, you will be working with statistical data about crime data in different cities that relate predictors/features such as educational level of the population, government expenditure on policing, individual income and inequality with crime in a given city.  The file containing the data set for this assignment is `crime.csv`.  Make sure you open the file and visually inspect it yourself to understand the structure of your data. \n",
    "\n",
    "To summarize, in this data set, the **features/predictors** ($X$) are:\n",
    "\n",
    "* Education: mean years of schooling of the population aged 25 years or over\n",
    "* Police: per capita expenditure on police protection\n",
    "* Income: Average per capita monthly income\n",
    "* Inequality: Income inequality is calculated as the percentage of families earning below half the median income\n",
    "\n",
    "and the **response variable/target/outcome** ($y$) is:\n",
    "\n",
    "* Crime: crime rate as number of offenses per 100,000 population\n",
    "\n",
    "you can load the data into memory and output the first 5 instances in the dataset using a `pandas` dataframe:"
   ]
  },
  {
   "cell_type": "code",
   "execution_count": 1,
   "metadata": {},
   "outputs": [
    {
     "name": "stdout",
     "output_type": "stream",
     "text": [
      "   Education  Police  Income  Inequality  Crime\n",
      "1       12.1     5.8    3940        26.1    791\n",
      "2        7.3    10.3    5570        19.4   1635\n",
      "3       10.9     4.5    3180        25.0    578\n",
      "4        6.1    14.9    6730        16.7   1969\n",
      "5        7.1    10.9    5780        17.4   1234\n"
     ]
    }
   ],
   "source": [
    "import pandas as pd\n",
    "\n",
    "data = pd.read_csv('crime.csv', index_col=0)\n",
    "print(data.head())"
   ]
  },
  {
   "cell_type": "markdown",
   "metadata": {},
   "source": [
    "You can extract the feature matrix $X$ (education, police, income, inequality) and the target vector **y** (crime) using the following code:"
   ]
  },
  {
   "cell_type": "code",
   "execution_count": 2,
   "metadata": {
    "collapsed": true
   },
   "outputs": [],
   "source": [
    "import numpy as np\n",
    "from sklearn.utils import shuffle\n",
    "feature_cols = ['Education','Police','Income','Inequality']\n",
    "target = ['Crime']\n",
    "X = np.array(data[feature_cols])\n",
    "y = np.array(data[target])\n",
    "X, y = shuffle(X, y, random_state=1)"
   ]
  },
  {
   "cell_type": "markdown",
   "metadata": {},
   "source": [
    "1. Plot the Education predictor/feature variable against Crime (the predictor should be on the x axis and the dependent variable, crime, on the y axis). Plot the Police predictor/feature variable against Crime. Plot the Income predictor/feature variable against Crime. Plot the Inequality predictor/feature variable against Crime. "
   ]
  },
  {
   "cell_type": "code",
   "execution_count": null,
   "metadata": {
    "collapsed": true
   },
   "outputs": [],
   "source": []
  },
  {
   "cell_type": "markdown",
   "metadata": {},
   "source": [
    "<ol start=\"2\">\n",
    "<li>Is the education variable positively or negatively correlated with crime? Is the police variable positively or negatively correlated with crime?</li>\n",
    "</ol>"
   ]
  },
  {
   "cell_type": "code",
   "execution_count": null,
   "metadata": {
    "collapsed": true
   },
   "outputs": [],
   "source": []
  },
  {
   "cell_type": "markdown",
   "metadata": {},
   "source": [
    "<ol start=\"3\">\n",
    "<li>Split the data in 2 halves: training set and test set</li>\n",
    "</ol>"
   ]
  },
  {
   "cell_type": "code",
   "execution_count": null,
   "metadata": {
    "collapsed": true
   },
   "outputs": [],
   "source": []
  },
  {
   "cell_type": "markdown",
   "metadata": {},
   "source": [
    "<ol start=\"4\">\n",
    "<li>Fit a multivariate linear regression model on the training data using all the features available</li>\n",
    "</ol>"
   ]
  },
  {
   "cell_type": "code",
   "execution_count": null,
   "metadata": {
    "collapsed": true
   },
   "outputs": [],
   "source": []
  },
  {
   "cell_type": "markdown",
   "metadata": {},
   "source": [
    "<ol start=\"5\">\n",
    "<li>What are the intercept ($\\theta_0$) and coefficients ($\\theta_1$, $\\theta_2$, $\\theta_3$ and $\\theta_4$) of the model?</li>\n",
    "</ol>"
   ]
  },
  {
   "cell_type": "code",
   "execution_count": null,
   "metadata": {
    "collapsed": true
   },
   "outputs": [],
   "source": []
  },
  {
   "cell_type": "markdown",
   "metadata": {},
   "source": [
    "<ol start=\"6\">\n",
    "<li>What is the $R^2$ score (i.e. the coefficient of determination that measures the proportion of the outcomes variation explained by the model) for the training data? and for the test data?</li>\n",
    "</ol>"
   ]
  },
  {
   "cell_type": "code",
   "execution_count": null,
   "metadata": {
    "collapsed": true
   },
   "outputs": [],
   "source": []
  },
  {
   "cell_type": "markdown",
   "metadata": {},
   "source": [
    "<ol start=\"7\">\n",
    "<li>Given the following imaginary cities with the provided values for the predictors education, police, income and inequality, which city should have the highest level of crime according to your model?:</li>\n",
    "</ol>\n",
    "\n",
    "| City name        | education           | police  | income  | inequality |\n",
    "| ------------- |:-------------:| -----:| -----:| -----:|\n",
    "| City 1      | 10 | 5 | 6000  | 16   |\n",
    "| City 2      | 8 | 11 | 4500  | 25   |\n",
    "| City 3      | 6 | 8 | 3780  |  17  |\n",
    "| City 4      | 12 | 6 | 5634  |  22  |"
   ]
  },
  {
   "cell_type": "code",
   "execution_count": null,
   "metadata": {
    "collapsed": true
   },
   "outputs": [],
   "source": []
  },
  {
   "cell_type": "markdown",
   "metadata": {},
   "source": [
    "<ol start=\"8\">\n",
    "  \n",
    "<li>Re-instantiate your linear regression model with the parameter `fit_intercept` set to `False` and rerun your analysis on the entire feature matrix $X$. When we set the `fit_intercept` to `False` we are basically fitting a model with no intercept parameter $\\theta_0$. Output the coefficients you get for $\\theta_1 ... \\theta_4$.</li>\n",
    "</ol>"
   ]
  },
  {
   "cell_type": "code",
   "execution_count": null,
   "metadata": {
    "collapsed": true
   },
   "outputs": [],
   "source": []
  },
  {
   "cell_type": "markdown",
   "metadata": {},
   "source": [
    "<ol start=\"9\">\n",
    "  \n",
    "<li>Calculate the coefficients for $\\theta_1 ... \\theta_4$ using the analytical/close form solution of linear regression. Make sure those estimates coincide with what you get in Exercise 8 to be certain you got it right. Use the matrix algebra functionality provided by the `numpy` library to find the optimal vector **$\\theta$**. Provide the line of code you created to calculate the solution.</li>\n",
    "</ol>"
   ]
  },
  {
   "cell_type": "code",
   "execution_count": null,
   "metadata": {
    "collapsed": true
   },
   "outputs": [],
   "source": []
  },
  {
   "cell_type": "markdown",
   "metadata": {},
   "source": [
    "### Exercise on Linear Algebra **(Hard)**\n",
    "\n",
    "The following code snippet generates a Matrix of 10 rows and 10 columns. Think of each row as a vector. "
   ]
  },
  {
   "cell_type": "code",
   "execution_count": 1,
   "metadata": {},
   "outputs": [],
   "source": [
    "import numpy as np\n",
    "np.random.seed(20) # for reproducibility purposes\n",
    "dim=10\n",
    "M = np.random.random(dim*dim).reshape(dim,dim)\n",
    "# M = np.array([[0,1,1],[1,3,3],[1,2,3]]) #Sanity check to use while you develop your solution"
   ]
  },
  {
   "cell_type": "markdown",
   "metadata": {},
   "source": [
    "<ol start=\"10\">\n",
    "  \n",
    "<li>Your task is to estimate the 2 row vectors that are most similar to each other in the entire matrix in terms of the direction in which they point in high dimensional space (i.e. vector magnitude should be irrelevant) . Let me give you a few hints:</li>\n",
    "</ol>\n",
    "\n",
    "- Normalize all the rows in the matrix (using the L2 norm)\n",
    "- Dot product every row with every other row\n",
    "- Extract the maximum result from the previous operation after accounting for the fact that the result is a symmetric matrix and that the numbers in the main diagonal are just the dot product of a vector with itself (So they should not count towards computing the maximum)\n",
    "- Start working with a super simple matrix (i.e. ```M = np.array([[0,1,1],[1,3,3],[1,2,3]])```) to make sure your solution is correct before applying it to the large matrix\n",
    "\n"
   ]
  },
  {
   "cell_type": "code",
   "execution_count": null,
   "metadata": {
    "collapsed": true
   },
   "outputs": [],
   "source": []
  },
  {
   "cell_type": "markdown",
   "metadata": {},
   "source": [
    "### Exercises on Classification\n",
    "\n",
    "#### Business Churn Rate\n",
    "\n",
    "\"Churn Rate\" is a business term describing the rate at which customers leave or cease paying for a product or service. It's a critical figure in many businesses. Understanding what keeps customers engaged is valuable. Consequently, there's growing interest among companies to develop better churn-detection techniques. Predicting churn is particularly important for businesses with subscription models such as cell phone or pay-TV who want to keep their clients and understand why clients leave their services. \n",
    "\n",
    "The data set we'll be using, `churn.csv`, is real data from a Telecommunications company customer data set. Each row represents a subscribing telephone customer. Each column contains customer attributes such as call minutes used during different times of day, charges incurred for services, lifetime account duration, etc. The last column is the label indicating whether the customer quit the service (1) or is still a customer of the telecom company (0). \n",
    "\n",
    "Your task is:\n",
    "\n",
    "<ol start=\"11\">\n",
    "<li> Read the data from the file into the appropriate $X$ and $y$ data structures, shuffle the data and split the data into a training set and test set (test set size should be 33%)</li>\n",
    "</ol>"
   ]
  },
  {
   "cell_type": "code",
   "execution_count": null,
   "metadata": {},
   "outputs": [],
   "source": []
  },
  {
   "cell_type": "markdown",
   "metadata": {},
   "source": [
    "<ol start=\"12\">\n",
    "<li> Scale the data using the StandardScaler class from `scikit-learn`</li>\n",
    "</ol>    "
   ]
  },
  {
   "cell_type": "code",
   "execution_count": null,
   "metadata": {},
   "outputs": [],
   "source": []
  },
  {
   "cell_type": "markdown",
   "metadata": {},
   "source": [
    "<ol start=\"13\">\n",
    "<li> Train a logistic regression model and estimate its performance on the test data</li>\n",
    "</ol>    "
   ]
  },
  {
   "cell_type": "code",
   "execution_count": null,
   "metadata": {},
   "outputs": [],
   "source": []
  },
  {
   "cell_type": "markdown",
   "metadata": {},
   "source": [
    "<ol start=\"14\">\n",
    "<li> Train a K-nearest neighbors classifier and estimate its performance on the test data</li>\n",
    "</ol>\n",
    "You can read about the K-nearest neighbors machine learning model in the scikit-learn documentation: \n",
    "\n",
    "[Nearest Neighbors Classification](https://scikit-learn.org/stable/modules/neighbors.html#classification) and \n",
    "\n",
    "\n",
    "\n",
    "[sklearn.neighbors.KNeighborsClassifier](https://scikit-learn.org/stable/modules/generated/sklearn.neighbors.KNeighborsClassifier.html#sklearn.neighbors.KNeighborsClassifier)"
   ]
  },
  {
   "cell_type": "code",
   "execution_count": null,
   "metadata": {},
   "outputs": [],
   "source": []
  },
  {
   "cell_type": "markdown",
   "metadata": {},
   "source": [
    "### Exercise on Regularization\n",
    "\n",
    "Using the Boston house prices [data set](http://scikit-learn.org/stable/modules/generated/sklearn.datasets.load_boston.html):\n",
    "\n",
    "<ol start=\"15\">\n",
    "<li> Fit a linear regression model using Ridge regularization and print out the coefficients of the model </li>\n",
    "<li> Fit a linear regression models using Lasso regularization and print out the coefficients of the model. Describe what is most striking difference between the coefficients of Ridge and Lasso regression. </li>\n",
    "</ol>\n",
    "\n",
    "I provide you with some initial code to get you started:"
   ]
  },
  {
   "cell_type": "code",
   "execution_count": null,
   "metadata": {},
   "outputs": [],
   "source": [
    "from sklearn.linear_model import LinearRegression, Lasso, Ridge\n",
    "import numpy as np\n",
    "import pylab as pl\n",
    "\n",
    "from sklearn.datasets import load_boston\n",
    "boston = load_boston()\n",
    "\n",
    "X = np.array([np.concatenate((v,[1])) for v in boston.data])\n",
    "y = boston.target\n",
    "\n",
    "from sklearn.cross_validation import train_test_split\n",
    "X_train, X_test, y_train, y_test = train_test_split(X, y, test_size=0.2, random_state=42)"
   ]
  },
  {
   "cell_type": "code",
   "execution_count": null,
   "metadata": {},
   "outputs": [],
   "source": [
    "#15"
   ]
  },
  {
   "cell_type": "code",
   "execution_count": null,
   "metadata": {},
   "outputs": [],
   "source": [
    "#16"
   ]
  },
  {
   "cell_type": "markdown",
   "metadata": {},
   "source": [
    "### Exercise on Clustering\n",
    "\n",
    "<ol start=\"17\">\n",
    "\n",
    "<li> Given the following artificial data set which is unlabeled, use the K-means algorithm included in scikit-learn using `n_clusters` parameter equals 3 to fit the data $X$ above and plot the data color coded for the estimated cluster each data point belongs to.\n",
    "</li>\n",
    "</ol>"
   ]
  },
  {
   "cell_type": "code",
   "execution_count": 6,
   "metadata": {},
   "outputs": [
    {
     "data": {
      "image/png": "[encoded data removed]",
      "text/plain": [
       "<matplotlib.figure.Figure at 0xf914c18>"
      ]
     },
     "metadata": {},
     "output_type": "display_data"
    }
   ],
   "source": [
    "%matplotlib inline\n",
    "import matplotlib.pyplot as plt\n",
    "import numpy as np\n",
    "\n",
    "from sklearn.datasets.samples_generator import make_blobs\n",
    "X, y = make_blobs(n_samples=300, centers=3,\n",
    "                  random_state=0, cluster_std=0.60)\n",
    "plt.scatter(X[:, 0], X[:, 1], s=50);"
   ]
  },
  {
   "cell_type": "markdown",
   "metadata": {},
   "source": [
    "Your final plot should look something like the following figure with the colors indicating cluster membership as determined by the algorithm:\n",
    "\n",
    "![](./kmeansResult.png)"
   ]
  },
  {
   "cell_type": "code",
   "execution_count": null,
   "metadata": {},
   "outputs": [],
   "source": []
  },
  {
   "cell_type": "markdown",
   "metadata": {},
   "source": [
    "### Exercise on Dimensionality Reduction\n",
    "\n",
    "<ol start=\"18\">\n",
    "\n",
    "<li> We first create 200 random two-dimensional data points. The data points are sampled from a multinomial normal distribution.\n",
    "You don't have to understand precisely how to do this. Simply understand that the following code snippet creates some synthetic data. Use PCA to find out the 2 principal components of the data in `X`. Please, print out (numerically) those 2 components and the percentage of variance explained by each one of those components.\n",
    "</li>\n",
    "</ol>"
   ]
  },
  {
   "cell_type": "code",
   "execution_count": 2,
   "metadata": {},
   "outputs": [
    {
     "data": {
      "image/png": "[encoded data removed]",
      "text/plain": [
       "<Figure size 288x288 with 1 Axes>"
      ]
     },
     "metadata": {
      "needs_background": "light"
     },
     "output_type": "display_data"
    }
   ],
   "source": [
    "%matplotlib inline\n",
    "import matplotlib.pyplot as plt\n",
    "import numpy as np\n",
    "np.random.seed(seed=3)\n",
    "Cov = np.array([[2.9, -2.2], [-2.2, 6.5]])\n",
    "X = np.random.multivariate_normal([1,2], Cov, size=200)\n",
    "plt.figure(figsize=(4,4))\n",
    "plt.scatter(X[:,0], X[:,1])\n",
    "plt.axis('equal') # equal scaling on both axis;\n",
    "plt.show()"
   ]
  },
  {
   "cell_type": "code",
   "execution_count": null,
   "metadata": {},
   "outputs": [],
   "source": []
  },
  {
   "cell_type": "markdown",
   "metadata": {},
   "source": [
    "### Exercises on Scraping information from the web\n",
    "\n",
    "<ol start=\"19\">\n",
    "\n",
    "<li> Build  a web spider using [Scrapy](https://scrapy.org) that automatically scrapes all the links to Dunedin properties for sale in https://www.trademe.co.nz   \n",
    "Use the following start URL: <a href=\"https://www.trademe.co.nz/Browse/CategoryAttributeSearchResults.aspx?search=1&cid=3399&rptpath=350-&sidebar=0&132=PROPERTY&selected135=&selected136=&134=&135=&29=&122=0&122=0&49=0&49=0&153=Dunedin%2c+otago&searchString=Dunedin%2c+otago\">Properties for sale in Dunedin</a>\n",
    "\n",
    "Crawl the index pages and also crawl each individual property listing. From each individual property listing extract:\n",
    "- title\n",
    "- price\n",
    "- description\n",
    "- address \n",
    "\n",
    "Store the results of the crawling into a `CSV` file which should look similar to the following:"
   ]
  },
  {
   "cell_type": "raw",
   "metadata": {},
   "source": [
    "title,price,description,address\n",
    "\n",
    "Outstanding and Immaculate,Price by negotiation,\"From the moment you enter the delightful avenue style driveway you’ll be impressed by this special situation and unique townhouse. The superb low maintenance, double glazed brick home has stand out style, the attractive timber chimney being an excellent example of its many appealing features. Atmosphere abounds, and there is a lovely feel of openness around this property, framed beautifully by its garden setting. From the front door you step into an entry foyer that flows via double doors into a light, spacious open plan living-dining area with ample space for your furniture. A very large computer or hobby nook is another feature of this area, with doors to close it off from the room when your work is done. Heating includes a gas fire with its wonderful ambient flame and there is also a heat pump. Decor throughout this home is up to date and the presentation is impeccable, this being especially evident in the all important kitchen and bathroom. Breakfast bar, generous cupboard/drawer space, gas hob, electric oven, range hood, dish washer, and gorgeous flooring are all present in this functional kitchen layout; the dual ensuite bathroom is stunning, with easy access tiled shower, bath, twin hand basins, and w/c, (there’s also a second separate w/c). Not only does the property have a double garage, there is also off street parking for two cars, and if you have a dog you’ll be pleased to know the section is fully fenced.  www.lesmortimer.nz for premium results. Agency reference #: FR325\",\"23A Lanark Street, Mosgiel, Dunedin, Otago\"\n",
    "\n",
    "\"Live, Invest or Play!\",\"Enquiries over $369,000\",\"These modern, spacious apartments on View Street genuinely appeal to three types of owners. LIVE in the beating heart of city and walk to work; INVEST in the apartment every discerning tenant wants; or PLAY Dunedin in the weekends away from your Otago home.  Conveniently located in the hub of Dunedin City, these apartments are within walking distance to everything professional and sociable.  The diverse display of cityscape and harbour views, coupled with the modern fitout and decor makes these apartments ideal as an investment, town base or owner/occupier haven.  Situated on an elevated corner section, this two level 1930's Art Deco building comprises six 2-bedroom apartments all currently tenanted at $450 per week for 2018 with varying expiry dates.  •6x 2-bedroom apartments •Various off-street parking options •Currently tenanted at $450 per week each with varying expiry dates  All apartments have been listed separately to showcase the photos and 3D Tours of each individual apartment. Contact the broker for the details of each apartment or search this site for all individual six options.  Viewings are by appointment only with the Broker.  Other investment options at www.colliers.co.nz/student-investment Agency reference #: 153918\",\"1-6/39 View Street, City Centre, Dunedin, Otago\"\n",
    "\n",
    "Fabulous in Fairfield,For sale by tender,\"This large 1980's home has great bones and is just waiting for you to put your stamp on. Upstairs: Open plan kitchen-dining provides access to both a spacious lounge (with Belmac burner) and also out to the conservatory and deck. Two doubles and one single bedroom with good biw's, bathroom and separate toilet complete this level. Downstairs: Large rumpus area, previously used as fourth bedroom, laundry with added shower, separate toilet, double garage plus a single or workshop. Sheltered courtyard area with fantastic outdoor living;  fully fenced backyard, ideal for young families and pets. Properties in this extremely sought after area are snapped up quickly - don't hesitate, call us now! Land Area : 757m2 (+/-)        Rates: $2409.83          Rateable Value: $425,000 TENDER closing on Thursday 15 March 2018 at 4.00pm in our Dunedin Office, 12 Wharf Street (Prior Unconditional Offers Considered) Agency reference #: DUN24049\",\"63 Walton Park Avenue, Fairfield, Dunedin, Otago\""
   ]
  },
  {
   "cell_type": "code",
   "execution_count": null,
   "metadata": {},
   "outputs": [],
   "source": []
  },
  {
   "cell_type": "markdown",
   "metadata": {},
   "source": [
    "### Exercise on getting data from an API\n",
    "\n",
    "<ol start=\"20\">\n",
    "\n",
    "<li> Using the Twitter API and the twitter Python module, programmatically retrieve and print out the latest 5 tweets from the account NASA (@NASA). Make sure to include your own keys to the twitter API in the code snippet you provide.\n",
    "</li>\n",
    "</ol>"
   ]
  },
  {
   "cell_type": "code",
   "execution_count": null,
   "metadata": {},
   "outputs": [],
   "source": []
  },
  {
   "cell_type": "markdown",
   "metadata": {},
   "source": [
    "## Exercise on Natural Language Processing"
   ]
  },
  {
   "cell_type": "markdown",
   "metadata": {
    "collapsed": true
   },
   "source": [
    "Go over the following tutorial about classifying test [Working With Text Data](https://scikit-learn.org/stable/tutorial/text_analytics/working_with_text_data.html#loading-the-20-newsgroups-dataset)\n",
    "The 20 Newsgroups data set is a collection of approximately 20,000 newsgroup documents, partitioned (nearly) evenly across 20 different newsgroups. \n",
    "Let's download the data."
   ]
  },
  {
   "cell_type": "code",
   "execution_count": 40,
   "metadata": {
    "collapsed": true
   },
   "outputs": [],
   "source": [
    "from sklearn.datasets import fetch_20newsgroups\n",
    "categories = ['alt.atheism', 'soc.religion.christian','comp.graphics', 'sci.med']\n",
    "\n",
    "twenty_train = fetch_20newsgroups(subset='train',categories=categories, shuffle=True, random_state=42)\n",
    "twenty_test = fetch_20newsgroups(subset='test',categories=categories, shuffle=True, random_state=42)"
   ]
  },
  {
   "cell_type": "markdown",
   "metadata": {},
   "source": [
    "<ol start=\"21\">\n",
    "\n",
    "<li>\n",
    "Using a CountVectorizer, transform the text into vector counts. Fit a Multinomial Naive Bayes classifier to the training data. Carry out predictions on the the test data an estimate the classification accuracy of the classifier on the test data.  Use your classifier to predict the category of the following three sentences:\n",
    "</li>\n",
    "</ol>\n",
    "\n",
    "```\n",
    "docs_new = ['God commands christians to love their neighbors', 'OpenGL on the GPU is fast',\n",
    "            'the prevalence of diabetes in the population is growing' ]\n",
    "```\n"
   ]
  },
  {
   "cell_type": "code",
   "execution_count": null,
   "metadata": {
    "collapsed": true
   },
   "outputs": [],
   "source": []
  },
  {
   "cell_type": "markdown",
   "metadata": {},
   "source": [
    "<ol start=\"22\">\n",
    "\n",
    "<li> Using the off-the-shelf `TextBlob` NLP library tokenize the following text snippet into sentences, carry out computational sentiment analysis on each sentences and also translate each sentence into French</li>\n",
    "</ol>\n",
    "\n",
    "```\n",
    "Donald Trump is a piece of shit. What are you talking about????? Donald Trump is the best president in the history of the United States\n",
    "```"
   ]
  },
  {
   "cell_type": "code",
   "execution_count": 63,
   "metadata": {
    "collapsed": true
   },
   "outputs": [],
   "source": [
    "text = \"\"\"Donald Trump is a piece of shit. What are you talking about????? Donald Trump is the best president in \n",
    "the history of the United States\"\"\"\n"
   ]
  },
  {
   "cell_type": "markdown",
   "metadata": {},
   "source": [
    "### Deliverables\n",
    "\n",
    "<ol start=\"23\">\n",
    "\n",
    "<li> You should hand in a single python notebook file (.ipynb) containing all the necessary code to answer each of the previously enumerated tasks. Include comments in the code to clarify which exercise your code snippet is trying to solve. Use separate code cells to organize your code. Use comments also to provide answers to each task when appropriate.  Please, make sure your code runs smoothly so I can execute it in my computer. Name your Python notebook according to the following pattern: `yourLastName_DSMI_A1.ipynb`. Create your own private repository for you to work on the assignment by using the following link: \n",
    "</li></ol>    \n",
    "\n",
    "[https://classroom.github.com/a/yh2iWeTo](https://classroom.github.com/a/yh2iWeTo)\n",
    "\n",
    "The notebook file and the data files should then be available in your own private GitHub repository “https://github.com/OPClasses2/assignment1-YourGithubUserName”. \n"
   ]
  }
 ],
 "metadata": {
  "anaconda-cloud": {},
  "kernelspec": {
   "display_name": "Python 3",
   "language": "python",
   "name": "python3"
  },
  "language_info": {
   "codemirror_mode": {
    "name": "ipython",
    "version": 3
   },
   "file_extension": ".py",
   "mimetype": "text/x-python",
   "name": "python",
   "nbconvert_exporter": "python",
   "pygments_lexer": "ipython3",
   "version": "3.6.7"
  },
  "varInspector": {
   "cols": {
    "lenName": 16,
    "lenType": 16,
    "lenVar": 40
   },
   "kernels_config": {
    "python": {
     "delete_cmd_postfix": "",
     "delete_cmd_prefix": "del ",
     "library": "var_list.py",
     "varRefreshCmd": "print(var_dic_list())"
    },
    "r": {
     "delete_cmd_postfix": ") ",
     "delete_cmd_prefix": "rm(",
     "library": "var_list.r",
     "varRefreshCmd": "cat(var_dic_list()) "
    }
   },
   "types_to_exclude": [
    "module",
    "function",
    "builtin_function_or_method",
    "instance",
    "_Feature"
   ],
   "window_display": false
  }
 },
 "nbformat": 4,
 "nbformat_minor": 1
}
